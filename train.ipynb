{
 "cells": [
  {
   "cell_type": "code",
   "execution_count": 1,
   "metadata": {},
   "outputs": [],
   "source": [
    "import torch\n",
    "import torch.nn as nn\n",
    "from torch.nn import functional as F"
   ]
  },
  {
   "cell_type": "code",
   "execution_count": 2,
   "metadata": {},
   "outputs": [
    {
     "name": "stdout",
     "output_type": "stream",
     "text": [
      "cuda\n"
     ]
    }
   ],
   "source": [
    "torch.manual_seed(1337)\n",
    "\n",
    "batch_size = 64\n",
    "block_size = 256\n",
    "\n",
    "lr = 3e-4\n",
    "\n",
    "max_iters = 5000\n",
    "\n",
    "eval_iters = 500\n",
    "eval_interval = 200\n",
    "\n",
    "num_embeddings = 384\n",
    "num_heads = 6\n",
    "num_layer = 6\n",
    "\n",
    "dropout = 0.2\n",
    "\n",
    "device = \"cuda\" if torch.cuda.is_available() else \"cpu\"\n",
    "print(device)"
   ]
  },
  {
   "cell_type": "code",
   "execution_count": 3,
   "metadata": {},
   "outputs": [],
   "source": [
    "with open(\"../data/shakespeare.txt\", \"r\", encoding=\"utf-8\") as f:\n",
    "    text = f.read()"
   ]
  },
  {
   "cell_type": "code",
   "execution_count": 4,
   "metadata": {},
   "outputs": [
    {
     "name": "stdout",
     "output_type": "stream",
     "text": [
      "65\n",
      "['\\n', ' ', '!', '$', '&', \"'\", ',', '-', '.', '3', ':', ';', '?', 'A', 'B', 'C', 'D', 'E', 'F', 'G', 'H', 'I', 'J', 'K', 'L', 'M', 'N', 'O', 'P', 'Q', 'R', 'S', 'T', 'U', 'V', 'W', 'X', 'Y', 'Z', 'a', 'b', 'c', 'd', 'e', 'f', 'g', 'h', 'i', 'j', 'k', 'l', 'm', 'n', 'o', 'p', 'q', 'r', 's', 't', 'u', 'v', 'w', 'x', 'y', 'z']\n"
     ]
    }
   ],
   "source": [
    "#Vocabulary\n",
    "chars = sorted(list(set(text)))\n",
    "vocab_size = len(chars)\n",
    "print(vocab_size)\n",
    "print(chars)\n"
   ]
  },
  {
   "cell_type": "code",
   "execution_count": 5,
   "metadata": {},
   "outputs": [],
   "source": [
    "str_to_int = {ch:i for i, ch in enumerate(chars)}\n",
    "int_to_str = {i:ch for i, ch in enumerate(chars)}\n",
    "encoder = lambda s: [str_to_int[char] for char in s]\n",
    "decoder = lambda l: \"\".join([int_to_str[i] for i in l])"
   ]
  },
  {
   "cell_type": "code",
   "execution_count": 6,
   "metadata": {},
   "outputs": [],
   "source": [
    "#encode, save it as torch tensor\n",
    "data = torch.tensor(encoder(text), dtype=torch.long)"
   ]
  },
  {
   "cell_type": "code",
   "execution_count": 7,
   "metadata": {},
   "outputs": [],
   "source": [
    "split_percentage = int(0.9*len(data))\n",
    "\n",
    "train_data = data[:split_percentage]\n",
    "valid_data = data[split_percentage:]"
   ]
  },
  {
   "cell_type": "code",
   "execution_count": 8,
   "metadata": {},
   "outputs": [],
   "source": [
    "def get_batch(split):\n",
    "    data = train_data if split == \"train\" else valid_data\n",
    "    ix = torch.randint(len(data) - block_size, (batch_size, ))\n",
    "    x = torch.stack([data[i:i+block_size] for i in ix])\n",
    "    y = torch.stack([data[i+1:i+1+block_size] for i in ix])\n",
    "    x,  y = x.to(device), y.to(device)\n",
    "    return x, y\n",
    "\n",
    "@torch.no_grad()\n",
    "def estimate_loss():\n",
    "    out = {}\n",
    "    model.eval()\n",
    "    for split in [\"train\", \"val\"]:\n",
    "        losses = torch.zeros(eval_iters)\n",
    "        for k in range(eval_iters):\n",
    "            X, Y = get_batch(split)\n",
    "            logits, loss = model(X, Y)\n",
    "            losses[k] = loss.item()\n",
    "        out[split] = losses.mean()\n",
    "    model.train()\n",
    "    return out"
   ]
  },
  {
   "cell_type": "code",
   "execution_count": 13,
   "metadata": {},
   "outputs": [],
   "source": [
    "class Head(nn.Module):\n",
    "    def __init__(self, head_size):\n",
    "        super().__init__()\n",
    "        self.key = nn.Linear(num_embeddings, head_size, bias=False)\n",
    "        self.query = nn.Linear(num_embeddings, head_size, bias=False)\n",
    "        self.value = nn.Linear(num_embeddings, head_size, bias=False)\n",
    "        self.register_buffer(\"tril\", torch.tril(torch.ones(block_size, block_size)))\n",
    "    \n",
    "        self.dropout = nn.Dropout(dropout)\n",
    "\n",
    "    def forward(self, x):\n",
    "        B, T, C = x.shape\n",
    "        k = self.key(x)\n",
    "        q = self.query(x)\n",
    "\n",
    "        wei = q @ k.transpose(-2, -1) * C ** -0.5\n",
    "        wei = wei.masked_fill(self.tril[:T, :T] == 0, float(\"-inf\"))\n",
    "        wei = F.softmax(wei, dim=-1)\n",
    "        wei = self.dropout(wei)\n",
    "\n",
    "        v = self.value(x)\n",
    "        out = wei @ v\n",
    "        return out\n",
    "\n",
    "class MultiHeadAttention(nn.Module):\n",
    "    def __init__(self, num_heads, head_size):\n",
    "        super().__init__()\n",
    "        self.heads = nn.ModuleList([Head(head_size) for _ in range(num_heads)])\n",
    "        self.projection = nn.Linear(num_embeddings, num_embeddings)\n",
    "        self.dropout = nn.Dropout(dropout)\n",
    "    \n",
    "    def forward(self, x):\n",
    "        out = torch.cat([head(x) for head in self.heads], dim=-1)\n",
    "        out = self.dropout(self.projection(out))\n",
    "        return out\n",
    "\n",
    "class FeedForward(nn.Module):\n",
    "    def __init__(self, num_embeddings):\n",
    "        super().__init__()\n",
    "        self.net = nn.Sequential(\n",
    "            nn.Linear(num_embeddings, num_embeddings*4),\n",
    "            nn.ReLU(),\n",
    "            nn.Linear(num_embeddings*4, num_embeddings),\n",
    "            nn.Dropout(dropout)\n",
    "        )\n",
    "\n",
    "    def forward(self, x):\n",
    "        return self.net(x)\n",
    "\n",
    "class Block(nn.Module):\n",
    "    def __init__(self, num_embeddings, num_heads):\n",
    "        super().__init__()\n",
    "        self.self_attention_heads = MultiHeadAttention(num_heads, num_embeddings // num_heads)\n",
    "        self.feedforward = FeedForward(num_embeddings)\n",
    "        self.layer_norm1 = nn.LayerNorm(num_embeddings)\n",
    "        self.layer_norm2 = nn.LayerNorm(num_embeddings)\n",
    "    \n",
    "    def forward(self, x):\n",
    "        x = x + self.self_attention_heads(self.layer_norm1(x))\n",
    "        x = x + self.feedforward(self.layer_norm2(x))\n",
    "        return x\n"
   ]
  },
  {
   "cell_type": "code",
   "execution_count": 14,
   "metadata": {},
   "outputs": [],
   "source": [
    "class BigramLanguageModel(nn.Module):\n",
    "    def __init__(self):\n",
    "        super().__init__()\n",
    "        self.token_embedding_table = nn.Embedding(vocab_size, num_embeddings)\n",
    "        self.position_embedding_table = nn.Embedding(block_size, num_embeddings)\n",
    "        # self.self_attention_heads = MultiHeadAttention(4, num_embeddings//4)\n",
    "        # self.feedforward = FeedForward(num_embeddings)\n",
    "        self.blocks = nn.Sequential(*[Block(num_embeddings, num_heads=num_heads) for _ in range(num_layer)])\n",
    "        self.final_layer_norm = nn.LayerNorm(num_embeddings)\n",
    "        self.lm_head = nn.Linear(num_embeddings, vocab_size)\n",
    "    \n",
    "    def forward(self, idx, targets=None):\n",
    "        B, T = idx.shape\n",
    "\n",
    "        token_embedding = self.token_embedding_table(idx)\n",
    "        position_embedding = self.position_embedding_table(torch.arange(T, device=device))\n",
    "\n",
    "        x = token_embedding + position_embedding\n",
    "        # x = self.self_attention_heads(x)\n",
    "        # x = self.feedforward(x)\n",
    "        x = self.blocks(x)\n",
    "        x = self.final_layer_norm(x)\n",
    "\n",
    "        logits = self.lm_head(x)\n",
    "        \n",
    "        if targets is None:\n",
    "            loss = None\n",
    "        else:\n",
    "            \n",
    "            B, T, C = logits.shape\n",
    "            logits = logits.view(B*T, C)\n",
    "            targets = targets.view(-1)\n",
    "            loss = F.cross_entropy(logits, targets)\n",
    "\n",
    "        return logits, loss\n",
    "\n",
    "    def generate(self, idx, max_new_tokens):\n",
    "        for _ in range(max_new_tokens):\n",
    "            idx_cond = idx[:, -block_size:]\n",
    "\n",
    "            logits, loss = self(idx_cond)\n",
    "            logits = logits[:, -1, :]\n",
    "            probs = F.softmax(logits, dim=-1)\n",
    "            idx_next = torch.multinomial(probs, num_samples=1)\n",
    "            idx = torch.cat((idx, idx_next), dim=1)\n",
    "        return idx\n",
    "\n",
    "model = BigramLanguageModel()\n",
    "model = model.to(device)\n"
   ]
  },
  {
   "cell_type": "code",
   "execution_count": 15,
   "metadata": {},
   "outputs": [],
   "source": [
    "optimizer = torch.optim.AdamW(model.parameters(), lr=lr)"
   ]
  },
  {
   "cell_type": "code",
   "execution_count": 16,
   "metadata": {},
   "outputs": [
    {
     "name": "stdout",
     "output_type": "stream",
     "text": [
      "Step 0: Train loss 4.2990, Val loss 4.2986\n",
      "Step 200: Train loss 2.4242, Val loss 2.4469\n",
      "Step 400: Train loss 2.1804, Val loss 2.2251\n",
      "Step 600: Train loss 1.9285, Val loss 2.0318\n",
      "Step 800: Train loss 1.7393, Val loss 1.8905\n",
      "Step 1000: Train loss 1.6219, Val loss 1.7961\n",
      "Step 1200: Train loss 1.5375, Val loss 1.7208\n",
      "Step 1400: Train loss 1.4738, Val loss 1.6668\n",
      "Step 1600: Train loss 1.4247, Val loss 1.6291\n",
      "Step 1800: Train loss 1.3849, Val loss 1.5976\n",
      "Step 2000: Train loss 1.3515, Val loss 1.5672\n",
      "Step 2200: Train loss 1.3260, Val loss 1.5608\n",
      "Step 2400: Train loss 1.3024, Val loss 1.5409\n",
      "Step 2600: Train loss 1.2748, Val loss 1.5229\n",
      "Step 2800: Train loss 1.2585, Val loss 1.5164\n",
      "Step 3000: Train loss 1.2337, Val loss 1.5055\n",
      "Step 3200: Train loss 1.2169, Val loss 1.4944\n",
      "Step 3400: Train loss 1.2042, Val loss 1.4926\n",
      "Step 3600: Train loss 1.1831, Val loss 1.4795\n",
      "Step 3800: Train loss 1.1714, Val loss 1.4825\n",
      "Step 4000: Train loss 1.1555, Val loss 1.4829\n",
      "Step 4200: Train loss 1.1409, Val loss 1.4723\n",
      "Step 4400: Train loss 1.1258, Val loss 1.4760\n",
      "Step 4600: Train loss 1.1176, Val loss 1.4801\n",
      "Step 4800: Train loss 1.0987, Val loss 1.4785\n",
      "1.2184275388717651\n"
     ]
    }
   ],
   "source": [
    "for iter in range(max_iters):\n",
    "    if iter % eval_interval == 0:\n",
    "        losses = estimate_loss()\n",
    "        print(f\"Step {iter}: Train loss {losses[\"train\"]:.4f}, Val loss {losses[\"val\"]:.4f}\")\n",
    "\n",
    "\n",
    "    xb, yb = get_batch(\"train\")\n",
    "\n",
    "    logits, loss = model(xb, yb)\n",
    "    optimizer.zero_grad(set_to_none=True)\n",
    "    loss.backward()\n",
    "    optimizer.step()\n",
    "\n",
    "print(loss.item())"
   ]
  },
  {
   "cell_type": "code",
   "execution_count": 19,
   "metadata": {},
   "outputs": [
    {
     "name": "stdout",
     "output_type": "stream",
     "text": [
      "\n",
      "They're but respect, or their prove the doction:\n",
      "The other holy endure's down, double two firmless\n",
      "Have both of him feetly try like shoul;\n",
      "For he is tender unserved: no but what widows with we\n",
      "Hath might accesstomass to join them; and not it,\n",
      "If leaching Camillo her for my heart of follows,\n",
      "imaginately makes the need at fly to my\n",
      "Of fairly, and let hie jest ithell.\n",
      "You have saiden, consed with viled feast, some conceived\n",
      "that; no more on the Tybalne bed some conference;\n",
      "for dies now, forwards hi\n"
     ]
    }
   ],
   "source": [
    "context = torch.zeros((1, 1), dtype=torch.long, device=device)\n",
    "print(decoder(model.generate(context, 500)[0].tolist()))"
   ]
  },
  {
   "cell_type": "code",
   "execution_count": 20,
   "metadata": {},
   "outputs": [
    {
     "name": "stdout",
     "output_type": "stream",
     "text": [
      "Model saved to language_model.pt\n"
     ]
    }
   ],
   "source": [
    "MODEL_PATH = \"language_model.pt\"\n",
    "torch.save(model.state_dict(), MODEL_PATH)\n",
    "print(f\"Model saved to {MODEL_PATH}\")\n"
   ]
  },
  {
   "cell_type": "code",
   "execution_count": null,
   "metadata": {},
   "outputs": [],
   "source": []
  }
 ],
 "metadata": {
  "kernelspec": {
   "display_name": ".venv",
   "language": "python",
   "name": "python3"
  },
  "language_info": {
   "codemirror_mode": {
    "name": "ipython",
    "version": 3
   },
   "file_extension": ".py",
   "mimetype": "text/x-python",
   "name": "python",
   "nbconvert_exporter": "python",
   "pygments_lexer": "ipython3",
   "version": "3.12.6"
  }
 },
 "nbformat": 4,
 "nbformat_minor": 2
}
